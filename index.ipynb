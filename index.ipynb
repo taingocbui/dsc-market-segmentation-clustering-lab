{
  "cells": [
    {
      "cell_type": "markdown",
      "metadata": {
        "id": "9vGjvL2XdiL0"
      },
      "source": [
        "# Market Segmentation with Clustering - Lab\n",
        "\n",
        "## Introduction\n",
        "\n",
        "In this lab, you'll use your knowledge of clustering to perform market segmentation on a real-world dataset!\n",
        "\n",
        "## Objectives\n",
        "\n",
        "In this lab you will:\n",
        "\n",
        "- Use clustering to create and interpret market segmentation on real-world data\n",
        "\n",
        "## Getting Started\n",
        "\n",
        "In this lab, you're going to work with the [Wholesale customers dataset](https://archive.ics.uci.edu/ml/datasets/wholesale+customers) from the UCI Machine Learning datasets repository. This dataset contains data on wholesale purchasing information from real businesses. These businesses range from small cafes and hotels to grocery stores and other retailers.\n",
        "\n",
        "Here's the data dictionary for this dataset:\n",
        "\n",
        "|      Column      |                                               Description                                              |\n",
        "|:----------------:|:------------------------------------------------------------------------------------------------------:|\n",
        "|       FRESH      |                    Annual spending on fresh products, such as fruits and vegetables                    |\n",
        "|       MILK       |                               Annual spending on milk and dairy products                               |\n",
        "|      GROCERY     |                                   Annual spending on grocery products                                  |\n",
        "|      FROZEN      |                                   Annual spending on frozen products                                   |\n",
        "| DETERGENTS_PAPER |                  Annual spending on detergents, cleaning supplies, and paper products                  |\n",
        "|   DELICATESSEN   |                           Annual spending on meats and delicatessen products                           |\n",
        "|      CHANNEL     | Type of customer.  1=Hotel/Restaurant/Cafe, 2=Retailer. (This is what we'll use clustering to predict) |\n",
        "|      REGION      |            Region of Portugal that the customer is located in. (This column will be dropped)           |\n",
        "\n",
        "\n",
        "\n",
        "One benefit of working with this dataset for practice with segmentation is that we actually have the ground-truth labels of what market segment each customer actually belongs to. For this reason, we'll borrow some methodology from supervised learning and store these labels separately, so that we can use them afterward to check how well our clustering segmentation actually performed.\n",
        "\n",
        "Let's get started by importing everything we'll need.\n",
        "\n",
        "In the cell below:\n",
        "\n",
        "* Import `pandas`, `numpy`, and `matplotlib.pyplot`, and set the standard alias for each.\n",
        "* Use `numpy` to set a random seed of `0`.\n",
        "* Set all matplotlib visualizations to appear inline."
      ]
    },
    {
      "cell_type": "code",
      "execution_count": 1,
      "metadata": {
        "id": "j_e4--cidiL2"
      },
      "outputs": [],
      "source": [
        "import pandas as pd\n",
        "import numpy as np\n",
        "import matplotlib.pyplot as plt\n",
        "np.random.seed(0)\n",
        "\n",
        "%matplotlib inline"
      ]
    },
    {
      "cell_type": "markdown",
      "metadata": {
        "id": "tByxkS7ldiL2"
      },
      "source": [
        "Now, let's load our data and inspect it. You'll find the data stored in `'wholesale_customers_data.csv'`.\n",
        "\n",
        "In the cell below, load the data into a DataFrame and then display the first five rows to ensure everything loaded correctly."
      ]
    },
    {
      "cell_type": "code",
      "execution_count": 2,
      "metadata": {
        "id": "G413rAc9diL2"
      },
      "outputs": [],
      "source": [
        "raw_df = pd.read_csv('https://raw.githubusercontent.com/taingocbui/dsc-market-segmentation-clustering-lab/master/wholesale_customers_data.csv')"
      ]
    },
    {
      "cell_type": "markdown",
      "metadata": {
        "id": "tF06oqw1diL3"
      },
      "source": [
        "Now, let's go ahead and store the `'Channel'` column in a separate variable and then drop both the `'Channel'` and `'Region'` columns. Then, display the first five rows of the new DataFrame to ensure everything worked correctly."
      ]
    },
    {
      "cell_type": "code",
      "execution_count": 3,
      "metadata": {
        "id": "yOelf6jhdiL3"
      },
      "outputs": [],
      "source": [
        "channels = raw_df['Channel']\n",
        "df = raw_df.drop(['Channel', 'Region'], axis = 1)"
      ]
    },
    {
      "cell_type": "markdown",
      "metadata": {
        "id": "P3moFJk6diL3"
      },
      "source": [
        "Now, let's get right down to it and begin our clustering analysis.\n",
        "\n",
        "In the cell below:\n",
        "\n",
        "* Import `KMeans` from `sklearn.cluster`, and then create an instance of it. Set the number of clusters to `2`\n",
        "* Fit it to the data (`df`)\n",
        "* Get the predictions from the clustering algorithm and store them in `cluster_preds`"
      ]
    },
    {
      "cell_type": "code",
      "execution_count": 4,
      "metadata": {
        "id": "vKRz1r5RdiL4"
      },
      "outputs": [],
      "source": [
        "from sklearn.cluster import KMeans"
      ]
    },
    {
      "cell_type": "code",
      "execution_count": 5,
      "metadata": {
        "colab": {
          "base_uri": "https://localhost:8080/"
        },
        "id": "lPR6T2-rdiL4",
        "outputId": "53e55013-cab9-4f98-a760-798131ffc9f5"
      },
      "outputs": [
        {
          "output_type": "stream",
          "name": "stderr",
          "text": [
            "/usr/local/lib/python3.10/dist-packages/sklearn/cluster/_kmeans.py:1416: FutureWarning: The default value of `n_init` will change from 10 to 'auto' in 1.4. Set the value of `n_init` explicitly to suppress the warning\n",
            "  super()._check_params_vs_input(X, default_n_init=10)\n"
          ]
        }
      ],
      "source": [
        "k_means = KMeans(n_clusters= 2).fit(df)\n",
        "\n",
        "cluster_preds = k_means.predict(df)"
      ]
    },
    {
      "cell_type": "markdown",
      "metadata": {
        "id": "fhBkL3sGdiL4"
      },
      "source": [
        "Now, use some of the metrics to check the performance. You'll use `calinski_harabasz_score()` and `adjusted_rand_score()`, which can both be found inside [`sklearn.metrics`](https://scikit-learn.org/stable/modules/clustering.html#clustering-performance-evaluation).\n",
        "\n",
        "In the cell below, import these scoring functions."
      ]
    },
    {
      "cell_type": "code",
      "execution_count": 6,
      "metadata": {
        "id": "N8Rsdx_zdiL4"
      },
      "outputs": [],
      "source": [
        "from sklearn.metrics import calinski_harabasz_score, adjusted_rand_score"
      ]
    },
    {
      "cell_type": "markdown",
      "metadata": {
        "id": "5oI3kOqTdiL4"
      },
      "source": [
        "Now, start with CH score to get the variance ratio."
      ]
    },
    {
      "cell_type": "code",
      "execution_count": 7,
      "metadata": {
        "colab": {
          "base_uri": "https://localhost:8080/"
        },
        "id": "_Qda91TudiL4",
        "outputId": "cf1cc1fe-681a-49f4-98e2-dcad30cf571a"
      },
      "outputs": [
        {
          "output_type": "execute_result",
          "data": {
            "text/plain": [
              "171.68461633384186"
            ]
          },
          "metadata": {},
          "execution_count": 7
        }
      ],
      "source": [
        "calinski_harabasz_score(df, cluster_preds)"
      ]
    },
    {
      "cell_type": "markdown",
      "metadata": {
        "id": "K_zjcSIkdiL4"
      },
      "source": [
        "Although you don't have any other numbers to compare this to, this is a pretty low score, suggesting that the clusters aren't great.\n",
        "\n",
        "Since you actually have ground-truth labels, in this case you can use `adjusted_rand_score()` to check how well the clustering performed. Adjusted Rand score is meant to compare two clusterings, which the score can interpret our labels as. This will tell us how similar the predicted clusters are to the actual channels.\n",
        "\n",
        "Adjusted Rand score is bounded between -1 and 1. A score close to 1 shows that the clusters are almost identical. A score close to 0 means that predictions are essentially random, while a score close to -1 means that the predictions are pathologically bad, since they are worse than random chance.\n",
        "\n",
        "In the cell below, call `adjusted_rand_score()` and pass in `channels` and `cluster_preds` to see how well your first iteration of clustering performed."
      ]
    },
    {
      "cell_type": "code",
      "execution_count": 8,
      "metadata": {
        "colab": {
          "base_uri": "https://localhost:8080/"
        },
        "id": "pX8HTMlFdiL5",
        "outputId": "4eea380e-784a-4aac-8141-5656dc59d5e2"
      },
      "outputs": [
        {
          "output_type": "execute_result",
          "data": {
            "text/plain": [
              "-0.030608912411094265"
            ]
          },
          "metadata": {},
          "execution_count": 8
        }
      ],
      "source": [
        "adjusted_rand_score(channels, cluster_preds)"
      ]
    },
    {
      "cell_type": "markdown",
      "metadata": {
        "id": "benIioxDdiL5"
      },
      "source": [
        "According to these results, the clusterings were essentially no better than random chance. Let's see if you can improve this.\n",
        "\n",
        "### Scaling our dataset\n",
        "\n",
        "Recall that k-means clustering is heavily affected by scaling. Since the clustering algorithm is distance-based, this makes sense. Let's use `StandardScaler` to scale our dataset and then try our clustering again and see if the results are different.\n",
        "\n",
        "In the cells below:\n",
        "\n",
        "* Import and instantiate [StandardScaler](https://scikit-learn.org/stable/modules/generated/sklearn.preprocessing.StandardScaler.html) and use it to transform the dataset  \n",
        "* Instantiate and fit k-means to this scaled data, and then use it to predict clusters\n",
        "* Calculate the adjusted Rand score for these new predictions"
      ]
    },
    {
      "cell_type": "code",
      "execution_count": 9,
      "metadata": {
        "id": "HWio_w6HdiL5"
      },
      "outputs": [],
      "source": [
        "from sklearn.preprocessing import StandardScaler\n",
        "scaler = StandardScaler()\n",
        "scaled_df = scaler.fit_transform(df)"
      ]
    },
    {
      "cell_type": "code",
      "execution_count": 10,
      "metadata": {
        "colab": {
          "base_uri": "https://localhost:8080/"
        },
        "id": "1oe3D9n5diL5",
        "outputId": "8e03e4a1-4d2a-473b-a5aa-053a09bb03b0"
      },
      "outputs": [
        {
          "output_type": "stream",
          "name": "stderr",
          "text": [
            "/usr/local/lib/python3.10/dist-packages/sklearn/cluster/_kmeans.py:1416: FutureWarning: The default value of `n_init` will change from 10 to 'auto' in 1.4. Set the value of `n_init` explicitly to suppress the warning\n",
            "  super()._check_params_vs_input(X, default_n_init=10)\n"
          ]
        }
      ],
      "source": [
        "scaled_k_means = KMeans(n_clusters= 2).fit(scaled_df)\n",
        "\n",
        "scaled_preds = scaled_k_means.predict(scaled_df)"
      ]
    },
    {
      "cell_type": "code",
      "source": [
        "adjusted_rand_score(channels, scaled_preds)"
      ],
      "metadata": {
        "id": "XDSulgsgzpnO",
        "outputId": "5bfccce3-9646-4435-ea5d-125767838206",
        "colab": {
          "base_uri": "https://localhost:8080/"
        }
      },
      "execution_count": 11,
      "outputs": [
        {
          "output_type": "execute_result",
          "data": {
            "text/plain": [
              "0.2308428703616923"
            ]
          },
          "metadata": {},
          "execution_count": 11
        }
      ]
    },
    {
      "cell_type": "markdown",
      "metadata": {
        "id": "Iqi2WOKGdiL5"
      },
      "source": [
        "That's a big improvement! Although it's not perfect, we can see that scaling our data had a significant effect on the quality of our clusters.\n",
        "\n",
        "## Incorporating PCA\n",
        "\n",
        "Since clustering algorithms are distance-based, this means that dimensionality has a definite effect on their performance. The greater the dimensionality of the dataset, the greater the total area that we have to worry about our clusters existing in. Let's try using Principal Component Analysis to transform our data and see if this affects the performance of our clustering algorithm.\n",
        "\n",
        "Since you've already seen PCA in a previous section, we will let you figure this out by yourself.\n",
        "\n",
        "In the cells below:\n",
        "\n",
        "* Import [PCA](https://scikit-learn.org/stable/modules/generated/sklearn.decomposition.PCA.html) from the appropriate module in sklearn\n",
        "* Create a `PCA` instance and use it to transform our scaled data  \n",
        "* Investigate the explained variance ratio for each Principal Component. Consider dropping certain components to reduce dimensionality if you feel it is worth the loss of information\n",
        "* Create a new `KMeans` object, fit it to our PCA-transformed data, and check the adjusted Rand score of the predictions it makes.\n",
        "\n",
        "**_NOTE:_** Your overall goal here is to get the highest possible adjusted Rand score. Don't be afraid to change parameters and rerun things to see how it changes."
      ]
    },
    {
      "cell_type": "code",
      "execution_count": 12,
      "metadata": {
        "id": "vn5FfU8SdiL5"
      },
      "outputs": [],
      "source": [
        "from sklearn.decomposition import PCA"
      ]
    },
    {
      "cell_type": "code",
      "execution_count": 13,
      "metadata": {
        "id": "tR0_OSYUdiL5"
      },
      "outputs": [],
      "source": [
        "pca = PCA(n_components= 4)\n",
        "pca_df = pca.fit_transform(scaled_df)"
      ]
    },
    {
      "cell_type": "code",
      "execution_count": 14,
      "metadata": {
        "id": "-tDa4OT-diL5",
        "colab": {
          "base_uri": "https://localhost:8080/"
        },
        "outputId": "47a1944c-d14e-4dcf-bfc7-037eacc3cba8"
      },
      "outputs": [
        {
          "output_type": "stream",
          "name": "stderr",
          "text": [
            "/usr/local/lib/python3.10/dist-packages/sklearn/cluster/_kmeans.py:1416: FutureWarning: The default value of `n_init` will change from 10 to 'auto' in 1.4. Set the value of `n_init` explicitly to suppress the warning\n",
            "  super()._check_params_vs_input(X, default_n_init=10)\n"
          ]
        }
      ],
      "source": [
        "pca_k_means = KMeans(n_clusters= 2)\n",
        "pca_k_means.fit(pca_df)\n",
        "pca_pred = pca_k_means.predict(pca_df)"
      ]
    },
    {
      "cell_type": "code",
      "execution_count": 15,
      "metadata": {
        "id": "70aNkQH1diL5",
        "colab": {
          "base_uri": "https://localhost:8080/"
        },
        "outputId": "d4471c12-fbdb-4e24-bd7c-67b4b16bdc46"
      },
      "outputs": [
        {
          "output_type": "execute_result",
          "data": {
            "text/plain": [
              "0.21284383545122412"
            ]
          },
          "metadata": {},
          "execution_count": 15
        }
      ],
      "source": [
        "adjusted_rand_score(channels, pca_pred)"
      ]
    },
    {
      "cell_type": "code",
      "execution_count": 15,
      "metadata": {
        "id": "7AkRqDW9diL5"
      },
      "outputs": [],
      "source": []
    },
    {
      "cell_type": "markdown",
      "metadata": {
        "id": "N6-82yYKdiL6"
      },
      "source": [
        "**_Question_**:  What was the Highest Adjusted Rand Score you achieved? Interpret this score and determine the overall quality of the clustering. Did PCA affect the performance overall?  How many principal components resulted in the best overall clustering performance? Why do you think this is?\n",
        "\n",
        "Write your answer below this line:\n",
        "_______________________________________________________________________________________________________________________________\n",
        "\n",
        "the highest Adjusted Rand Score achieved is 0.21284. This score indicates that with PCA processing, our clustering model achieve better than random guessing. PCA greatly impact teh overall clustering performance."
      ]
    },
    {
      "cell_type": "markdown",
      "metadata": {
        "id": "kNYEiTvQdiL6"
      },
      "source": [
        "## Optional (Level up)\n",
        "\n",
        "### Hierarchical Agglomerative Clustering\n",
        "\n",
        "Now that we've tried doing market segmentation with k-means clustering, let's end this lab by trying with HAC!\n",
        "\n",
        "In the cells below, use [Agglomerative clustering](https://scikit-learn.org/stable/modules/generated/sklearn.cluster.AgglomerativeClustering.html) to make cluster predictions on the datasets we've created and see how HAC's performance compares to k-mean's performance.\n",
        "\n",
        "**_NOTE_**: Don't just try HAC on the PCA-transformed dataset -- also compare algorithm performance on the scaled and unscaled datasets, as well!"
      ]
    },
    {
      "cell_type": "code",
      "execution_count": 18,
      "metadata": {
        "id": "3s8dx3nldiL6"
      },
      "outputs": [],
      "source": [
        "#Try Agglomerative clustering with unscaled data\n",
        "from sklearn.cluster import AgglomerativeClustering\n",
        "\n",
        "agg = AgglomerativeClustering(n_clusters = 2)\n",
        "agg_pred = agg.fit_predict(df)"
      ]
    },
    {
      "cell_type": "code",
      "execution_count": 20,
      "metadata": {
        "id": "pgdZAe0kdiL6",
        "outputId": "9405357e-217d-4b11-e472-9a9d166fbcb6",
        "colab": {
          "base_uri": "https://localhost:8080/"
        }
      },
      "outputs": [
        {
          "output_type": "execute_result",
          "data": {
            "text/plain": [
              "-0.01923156414375723"
            ]
          },
          "metadata": {},
          "execution_count": 20
        }
      ],
      "source": [
        "adjusted_rand_score(channels, agg.labels_)"
      ]
    },
    {
      "cell_type": "code",
      "execution_count": 22,
      "metadata": {
        "id": "piG82sIcdiL6",
        "outputId": "e3ab9cb2-eb53-45ac-9923-55323455b4fa",
        "colab": {
          "base_uri": "https://localhost:8080/"
        }
      },
      "outputs": [
        {
          "output_type": "execute_result",
          "data": {
            "text/plain": [
              "0.022565317001189068"
            ]
          },
          "metadata": {},
          "execution_count": 22
        }
      ],
      "source": [
        "#Try Agglomerative clustering with standard scaled data\n",
        "\n",
        "scaled_agg = AgglomerativeClustering(n_clusters = 2)\n",
        "scaled_agg.fit(scaled_df)\n",
        "adjusted_rand_score(channels, scaled_agg.labels_)"
      ]
    },
    {
      "cell_type": "code",
      "execution_count": 23,
      "metadata": {
        "id": "CVzs0V1QdiL6",
        "outputId": "f91e6bed-4a82-463c-d5f7-1d7fe9c3b481",
        "colab": {
          "base_uri": "https://localhost:8080/"
        }
      },
      "outputs": [
        {
          "output_type": "execute_result",
          "data": {
            "text/plain": [
              "0.048223819108753556"
            ]
          },
          "metadata": {},
          "execution_count": 23
        }
      ],
      "source": [
        "#Try Agglomerative clustering with PCA data\n",
        "\n",
        "PCA_agg = AgglomerativeClustering(n_clusters = 2)\n",
        "PCA_agg.fit(pca_df)\n",
        "adjusted_rand_score(channels, PCA_agg.labels_)"
      ]
    },
    {
      "cell_type": "markdown",
      "metadata": {
        "id": "iKLFQe-ediL6"
      },
      "source": [
        "## Summary\n",
        "\n",
        "In this lab, you used your knowledge of clustering to perform a market segmentation on a real-world dataset. You started with a cluster analysis with poor performance, and then implemented some changes to iteratively improve the performance of the clustering analysis!"
      ]
    }
  ],
  "metadata": {
    "kernelspec": {
      "display_name": "Python 3",
      "language": "python",
      "name": "python3"
    },
    "language_info": {
      "codemirror_mode": {
        "name": "ipython",
        "version": 3
      },
      "file_extension": ".py",
      "mimetype": "text/x-python",
      "name": "python",
      "nbconvert_exporter": "python",
      "pygments_lexer": "ipython3",
      "version": "3.6.9"
    },
    "colab": {
      "provenance": []
    }
  },
  "nbformat": 4,
  "nbformat_minor": 0
}